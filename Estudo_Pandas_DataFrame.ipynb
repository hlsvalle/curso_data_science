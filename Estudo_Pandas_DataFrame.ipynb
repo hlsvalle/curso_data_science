{
  "nbformat": 4,
  "nbformat_minor": 0,
  "metadata": {
    "colab": {
      "name": "Estudo_Pandas_DataFrame.ipynb",
      "provenance": [],
      "authorship_tag": "ABX9TyOJm2pk5fIl0DQTdQ97dXXP",
      "include_colab_link": true
    },
    "kernelspec": {
      "name": "python3",
      "display_name": "Python 3"
    },
    "language_info": {
      "name": "python"
    }
  },
  "cells": [
    {
      "cell_type": "markdown",
      "metadata": {
        "id": "view-in-github",
        "colab_type": "text"
      },
      "source": [
        "<a href=\"https://colab.research.google.com/github/hlsvalle/curso_data_science/blob/master/Estudo_Pandas_DataFrame.ipynb\" target=\"_parent\"><img src=\"https://colab.research.google.com/assets/colab-badge.svg\" alt=\"Open In Colab\"/></a>"
      ]
    },
    {
      "cell_type": "code",
      "metadata": {
        "id": "GKTi3npOrIdD"
      },
      "source": [
        "import pandas as pd"
      ],
      "execution_count": 1,
      "outputs": []
    },
    {
      "cell_type": "code",
      "metadata": {
        "id": "vM6xRfDtrYHK"
      },
      "source": [
        "#Criando um dataFrame através de um dicionario\n",
        "dados_dict = {\n",
        "  \"nome\" : [\"Hugo\", \"Aline\", \"Bianca\", \"Bielzinho\"],\n",
        "  \"idade\": [37,31,10,7],\n",
        "  \"cidade\": [\"Campo Grande\", \"Corumbá\", \"Fatima do Sul\", \"Bonito\"],\n",
        "  'comprou': [True, False, True, False] \n",
        "}"
      ],
      "execution_count": 2,
      "outputs": []
    },
    {
      "cell_type": "code",
      "metadata": {
        "id": "c5gH-RMTsJXx"
      },
      "source": [
        "df = pd.DataFrame(dados_dict)"
      ],
      "execution_count": 3,
      "outputs": []
    },
    {
      "cell_type": "code",
      "metadata": {
        "colab": {
          "base_uri": "https://localhost:8080/",
          "height": 173
        },
        "id": "63JLqJXAsO6Y",
        "outputId": "f69c38f5-5a52-4c18-ebba-9ccea8b1284f"
      },
      "source": [
        "df"
      ],
      "execution_count": 4,
      "outputs": [
        {
          "output_type": "execute_result",
          "data": {
            "text/html": [
              "<div>\n",
              "<style scoped>\n",
              "    .dataframe tbody tr th:only-of-type {\n",
              "        vertical-align: middle;\n",
              "    }\n",
              "\n",
              "    .dataframe tbody tr th {\n",
              "        vertical-align: top;\n",
              "    }\n",
              "\n",
              "    .dataframe thead th {\n",
              "        text-align: right;\n",
              "    }\n",
              "</style>\n",
              "<table border=\"1\" class=\"dataframe\">\n",
              "  <thead>\n",
              "    <tr style=\"text-align: right;\">\n",
              "      <th></th>\n",
              "      <th>nome</th>\n",
              "      <th>idade</th>\n",
              "      <th>cidade</th>\n",
              "      <th>comprou</th>\n",
              "    </tr>\n",
              "  </thead>\n",
              "  <tbody>\n",
              "    <tr>\n",
              "      <th>0</th>\n",
              "      <td>Hugo</td>\n",
              "      <td>37</td>\n",
              "      <td>Campo Grande</td>\n",
              "      <td>True</td>\n",
              "    </tr>\n",
              "    <tr>\n",
              "      <th>1</th>\n",
              "      <td>Aline</td>\n",
              "      <td>31</td>\n",
              "      <td>Corumbá</td>\n",
              "      <td>False</td>\n",
              "    </tr>\n",
              "    <tr>\n",
              "      <th>2</th>\n",
              "      <td>Bianca</td>\n",
              "      <td>10</td>\n",
              "      <td>Fatima do Sul</td>\n",
              "      <td>True</td>\n",
              "    </tr>\n",
              "    <tr>\n",
              "      <th>3</th>\n",
              "      <td>Bielzinho</td>\n",
              "      <td>7</td>\n",
              "      <td>Bonito</td>\n",
              "      <td>False</td>\n",
              "    </tr>\n",
              "  </tbody>\n",
              "</table>\n",
              "</div>"
            ],
            "text/plain": [
              "        nome  idade         cidade  comprou\n",
              "0       Hugo     37   Campo Grande     True\n",
              "1      Aline     31        Corumbá    False\n",
              "2     Bianca     10  Fatima do Sul     True\n",
              "3  Bielzinho      7         Bonito    False"
            ]
          },
          "metadata": {
            "tags": []
          },
          "execution_count": 4
        }
      ]
    },
    {
      "cell_type": "code",
      "metadata": {
        "id": "w7yRNKDTsQCc"
      },
      "source": [
        "#Mudando o index do DataFrame\n",
        "df.index = [145,146,147,148]"
      ],
      "execution_count": 5,
      "outputs": []
    },
    {
      "cell_type": "code",
      "metadata": {
        "colab": {
          "base_uri": "https://localhost:8080/",
          "height": 173
        },
        "id": "ykAMK0D-sbda",
        "outputId": "d6b2b0fc-67d1-4a09-d6f9-45f820a5f291"
      },
      "source": [
        "df"
      ],
      "execution_count": 6,
      "outputs": [
        {
          "output_type": "execute_result",
          "data": {
            "text/html": [
              "<div>\n",
              "<style scoped>\n",
              "    .dataframe tbody tr th:only-of-type {\n",
              "        vertical-align: middle;\n",
              "    }\n",
              "\n",
              "    .dataframe tbody tr th {\n",
              "        vertical-align: top;\n",
              "    }\n",
              "\n",
              "    .dataframe thead th {\n",
              "        text-align: right;\n",
              "    }\n",
              "</style>\n",
              "<table border=\"1\" class=\"dataframe\">\n",
              "  <thead>\n",
              "    <tr style=\"text-align: right;\">\n",
              "      <th></th>\n",
              "      <th>nome</th>\n",
              "      <th>idade</th>\n",
              "      <th>cidade</th>\n",
              "      <th>comprou</th>\n",
              "    </tr>\n",
              "  </thead>\n",
              "  <tbody>\n",
              "    <tr>\n",
              "      <th>145</th>\n",
              "      <td>Hugo</td>\n",
              "      <td>37</td>\n",
              "      <td>Campo Grande</td>\n",
              "      <td>True</td>\n",
              "    </tr>\n",
              "    <tr>\n",
              "      <th>146</th>\n",
              "      <td>Aline</td>\n",
              "      <td>31</td>\n",
              "      <td>Corumbá</td>\n",
              "      <td>False</td>\n",
              "    </tr>\n",
              "    <tr>\n",
              "      <th>147</th>\n",
              "      <td>Bianca</td>\n",
              "      <td>10</td>\n",
              "      <td>Fatima do Sul</td>\n",
              "      <td>True</td>\n",
              "    </tr>\n",
              "    <tr>\n",
              "      <th>148</th>\n",
              "      <td>Bielzinho</td>\n",
              "      <td>7</td>\n",
              "      <td>Bonito</td>\n",
              "      <td>False</td>\n",
              "    </tr>\n",
              "  </tbody>\n",
              "</table>\n",
              "</div>"
            ],
            "text/plain": [
              "          nome  idade         cidade  comprou\n",
              "145       Hugo     37   Campo Grande     True\n",
              "146      Aline     31        Corumbá    False\n",
              "147     Bianca     10  Fatima do Sul     True\n",
              "148  Bielzinho      7         Bonito    False"
            ]
          },
          "metadata": {
            "tags": []
          },
          "execution_count": 6
        }
      ]
    },
    {
      "cell_type": "code",
      "metadata": {
        "colab": {
          "base_uri": "https://localhost:8080/"
        },
        "id": "lB6kffGtsc1a",
        "outputId": "2208f3ec-94d3-490d-e8b3-9074ec1abc20"
      },
      "source": [
        "#Acessando determinado dado através do index\n",
        "df.loc[146]"
      ],
      "execution_count": 9,
      "outputs": [
        {
          "output_type": "execute_result",
          "data": {
            "text/plain": [
              "nome         Aline\n",
              "idade           31\n",
              "cidade     Corumbá\n",
              "comprou      False\n",
              "Name: 146, dtype: object"
            ]
          },
          "metadata": {
            "tags": []
          },
          "execution_count": 9
        }
      ]
    },
    {
      "cell_type": "code",
      "metadata": {
        "colab": {
          "base_uri": "https://localhost:8080/"
        },
        "id": "_b4zK54Ksl2X",
        "outputId": "ccfd86ad-64be-4529-dd7b-2704fb47254c"
      },
      "source": [
        "#Trazendo todas as idades do dataFrame\n",
        "df['idade']"
      ],
      "execution_count": 10,
      "outputs": [
        {
          "output_type": "execute_result",
          "data": {
            "text/plain": [
              "145    37\n",
              "146    31\n",
              "147    10\n",
              "148     7\n",
              "Name: idade, dtype: int64"
            ]
          },
          "metadata": {
            "tags": []
          },
          "execution_count": 10
        }
      ]
    },
    {
      "cell_type": "code",
      "metadata": {
        "id": "1lO6rCEos4MZ"
      },
      "source": [
        "#Trazendo a média de idades\n",
        "df_idade = df['idade']"
      ],
      "execution_count": 16,
      "outputs": []
    },
    {
      "cell_type": "code",
      "metadata": {
        "colab": {
          "base_uri": "https://localhost:8080/"
        },
        "id": "0cQzVhhZtHTp",
        "outputId": "2e727049-a0cf-4425-b80f-0053b9f31d2e"
      },
      "source": [
        "df_idade.mean()"
      ],
      "execution_count": 17,
      "outputs": [
        {
          "output_type": "execute_result",
          "data": {
            "text/plain": [
              "21.25"
            ]
          },
          "metadata": {
            "tags": []
          },
          "execution_count": 17
        }
      ]
    },
    {
      "cell_type": "code",
      "metadata": {
        "colab": {
          "base_uri": "https://localhost:8080/"
        },
        "id": "Th3hJ9Vftwb9",
        "outputId": "ff0d094a-a4f3-4d04-bc09-3b9672007acd"
      },
      "source": [
        "#Segunda forma de trazer a média\n",
        "df.idade.mean()"
      ],
      "execution_count": 18,
      "outputs": [
        {
          "output_type": "execute_result",
          "data": {
            "text/plain": [
              "21.25"
            ]
          },
          "metadata": {
            "tags": []
          },
          "execution_count": 18
        }
      ]
    },
    {
      "cell_type": "code",
      "metadata": {
        "id": "p6BgSXg7uDGa"
      },
      "source": [
        "#Alterando o nome das colunas do datraFrame\n",
        "df.columns = ['NOME', 'IDADE', 'CIDADE', 'COMPROU']"
      ],
      "execution_count": 21,
      "outputs": []
    },
    {
      "cell_type": "code",
      "metadata": {
        "colab": {
          "base_uri": "https://localhost:8080/",
          "height": 173
        },
        "id": "cfSWhsngutQw",
        "outputId": "37d542c1-9a8e-4f6d-9b9c-628097304674"
      },
      "source": [
        "df"
      ],
      "execution_count": 22,
      "outputs": [
        {
          "output_type": "execute_result",
          "data": {
            "text/html": [
              "<div>\n",
              "<style scoped>\n",
              "    .dataframe tbody tr th:only-of-type {\n",
              "        vertical-align: middle;\n",
              "    }\n",
              "\n",
              "    .dataframe tbody tr th {\n",
              "        vertical-align: top;\n",
              "    }\n",
              "\n",
              "    .dataframe thead th {\n",
              "        text-align: right;\n",
              "    }\n",
              "</style>\n",
              "<table border=\"1\" class=\"dataframe\">\n",
              "  <thead>\n",
              "    <tr style=\"text-align: right;\">\n",
              "      <th></th>\n",
              "      <th>NOME</th>\n",
              "      <th>IDADE</th>\n",
              "      <th>CIDADE</th>\n",
              "      <th>COMPROU</th>\n",
              "    </tr>\n",
              "  </thead>\n",
              "  <tbody>\n",
              "    <tr>\n",
              "      <th>145</th>\n",
              "      <td>Hugo</td>\n",
              "      <td>37</td>\n",
              "      <td>Campo Grande</td>\n",
              "      <td>True</td>\n",
              "    </tr>\n",
              "    <tr>\n",
              "      <th>146</th>\n",
              "      <td>Aline</td>\n",
              "      <td>31</td>\n",
              "      <td>Corumbá</td>\n",
              "      <td>False</td>\n",
              "    </tr>\n",
              "    <tr>\n",
              "      <th>147</th>\n",
              "      <td>Bianca</td>\n",
              "      <td>10</td>\n",
              "      <td>Fatima do Sul</td>\n",
              "      <td>True</td>\n",
              "    </tr>\n",
              "    <tr>\n",
              "      <th>148</th>\n",
              "      <td>Bielzinho</td>\n",
              "      <td>7</td>\n",
              "      <td>Bonito</td>\n",
              "      <td>False</td>\n",
              "    </tr>\n",
              "  </tbody>\n",
              "</table>\n",
              "</div>"
            ],
            "text/plain": [
              "          NOME  IDADE         CIDADE  COMPROU\n",
              "145       Hugo     37   Campo Grande     True\n",
              "146      Aline     31        Corumbá    False\n",
              "147     Bianca     10  Fatima do Sul     True\n",
              "148  Bielzinho      7         Bonito    False"
            ]
          },
          "metadata": {
            "tags": []
          },
          "execution_count": 22
        }
      ]
    },
    {
      "cell_type": "code",
      "metadata": {
        "id": "kidvoBLMu8Gp"
      },
      "source": [
        "#Criando uma coluna no DataFrame\n",
        "df['saldo'] = [100, 250, 300 , 400]"
      ],
      "execution_count": 23,
      "outputs": []
    },
    {
      "cell_type": "code",
      "metadata": {
        "colab": {
          "base_uri": "https://localhost:8080/",
          "height": 173
        },
        "id": "cd_5Ir-0vKqs",
        "outputId": "61391a3a-f595-44d7-866b-dbeaed16b682"
      },
      "source": [
        "df"
      ],
      "execution_count": 24,
      "outputs": [
        {
          "output_type": "execute_result",
          "data": {
            "text/html": [
              "<div>\n",
              "<style scoped>\n",
              "    .dataframe tbody tr th:only-of-type {\n",
              "        vertical-align: middle;\n",
              "    }\n",
              "\n",
              "    .dataframe tbody tr th {\n",
              "        vertical-align: top;\n",
              "    }\n",
              "\n",
              "    .dataframe thead th {\n",
              "        text-align: right;\n",
              "    }\n",
              "</style>\n",
              "<table border=\"1\" class=\"dataframe\">\n",
              "  <thead>\n",
              "    <tr style=\"text-align: right;\">\n",
              "      <th></th>\n",
              "      <th>NOME</th>\n",
              "      <th>IDADE</th>\n",
              "      <th>CIDADE</th>\n",
              "      <th>COMPROU</th>\n",
              "      <th>saldo</th>\n",
              "    </tr>\n",
              "  </thead>\n",
              "  <tbody>\n",
              "    <tr>\n",
              "      <th>145</th>\n",
              "      <td>Hugo</td>\n",
              "      <td>37</td>\n",
              "      <td>Campo Grande</td>\n",
              "      <td>True</td>\n",
              "      <td>100</td>\n",
              "    </tr>\n",
              "    <tr>\n",
              "      <th>146</th>\n",
              "      <td>Aline</td>\n",
              "      <td>31</td>\n",
              "      <td>Corumbá</td>\n",
              "      <td>False</td>\n",
              "      <td>250</td>\n",
              "    </tr>\n",
              "    <tr>\n",
              "      <th>147</th>\n",
              "      <td>Bianca</td>\n",
              "      <td>10</td>\n",
              "      <td>Fatima do Sul</td>\n",
              "      <td>True</td>\n",
              "      <td>300</td>\n",
              "    </tr>\n",
              "    <tr>\n",
              "      <th>148</th>\n",
              "      <td>Bielzinho</td>\n",
              "      <td>7</td>\n",
              "      <td>Bonito</td>\n",
              "      <td>False</td>\n",
              "      <td>400</td>\n",
              "    </tr>\n",
              "  </tbody>\n",
              "</table>\n",
              "</div>"
            ],
            "text/plain": [
              "          NOME  IDADE         CIDADE  COMPROU  saldo\n",
              "145       Hugo     37   Campo Grande     True    100\n",
              "146      Aline     31        Corumbá    False    250\n",
              "147     Bianca     10  Fatima do Sul     True    300\n",
              "148  Bielzinho      7         Bonito    False    400"
            ]
          },
          "metadata": {
            "tags": []
          },
          "execution_count": 24
        }
      ]
    },
    {
      "cell_type": "code",
      "metadata": {
        "id": "y38PmGuQvL2y"
      },
      "source": [
        "#Criando um dataFrame a partir de uma lista\n",
        "lista = [[\"Joao\", 60, \"Corumba\", True, 600],\n",
        "         [\"Leo\", 60, \"Fatima do Sul\", True, 800]]"
      ],
      "execution_count": 25,
      "outputs": []
    },
    {
      "cell_type": "code",
      "metadata": {
        "id": "msm5o2EpvvvM"
      },
      "source": [
        "df_lista = pd.DataFrame(lista)"
      ],
      "execution_count": 26,
      "outputs": []
    },
    {
      "cell_type": "code",
      "metadata": {
        "colab": {
          "base_uri": "https://localhost:8080/",
          "height": 111
        },
        "id": "ZMt5vlhOv00R",
        "outputId": "8803af24-98c9-4266-a89f-0116bb85c043"
      },
      "source": [
        "df_lista"
      ],
      "execution_count": 27,
      "outputs": [
        {
          "output_type": "execute_result",
          "data": {
            "text/html": [
              "<div>\n",
              "<style scoped>\n",
              "    .dataframe tbody tr th:only-of-type {\n",
              "        vertical-align: middle;\n",
              "    }\n",
              "\n",
              "    .dataframe tbody tr th {\n",
              "        vertical-align: top;\n",
              "    }\n",
              "\n",
              "    .dataframe thead th {\n",
              "        text-align: right;\n",
              "    }\n",
              "</style>\n",
              "<table border=\"1\" class=\"dataframe\">\n",
              "  <thead>\n",
              "    <tr style=\"text-align: right;\">\n",
              "      <th></th>\n",
              "      <th>0</th>\n",
              "      <th>1</th>\n",
              "      <th>2</th>\n",
              "      <th>3</th>\n",
              "      <th>4</th>\n",
              "    </tr>\n",
              "  </thead>\n",
              "  <tbody>\n",
              "    <tr>\n",
              "      <th>0</th>\n",
              "      <td>Joao</td>\n",
              "      <td>60</td>\n",
              "      <td>Corumba</td>\n",
              "      <td>True</td>\n",
              "      <td>600</td>\n",
              "    </tr>\n",
              "    <tr>\n",
              "      <th>1</th>\n",
              "      <td>Leo</td>\n",
              "      <td>60</td>\n",
              "      <td>Fatima do Sul</td>\n",
              "      <td>True</td>\n",
              "      <td>800</td>\n",
              "    </tr>\n",
              "  </tbody>\n",
              "</table>\n",
              "</div>"
            ],
            "text/plain": [
              "      0   1              2     3    4\n",
              "0  Joao  60        Corumba  True  600\n",
              "1   Leo  60  Fatima do Sul  True  800"
            ]
          },
          "metadata": {
            "tags": []
          },
          "execution_count": 27
        }
      ]
    },
    {
      "cell_type": "code",
      "metadata": {
        "id": "6xv33r85v2Xo"
      },
      "source": [
        "df_lista.columns = [\"NOME\", \"IDADE\", \"CIDADE\", \"COMPROU\", \"SALDO\"]"
      ],
      "execution_count": 28,
      "outputs": []
    },
    {
      "cell_type": "code",
      "metadata": {
        "colab": {
          "base_uri": "https://localhost:8080/",
          "height": 111
        },
        "id": "iLaxiFrcwCQA",
        "outputId": "094a874b-2e25-4fa7-b191-3dbbab8f3082"
      },
      "source": [
        "df_lista"
      ],
      "execution_count": 29,
      "outputs": [
        {
          "output_type": "execute_result",
          "data": {
            "text/html": [
              "<div>\n",
              "<style scoped>\n",
              "    .dataframe tbody tr th:only-of-type {\n",
              "        vertical-align: middle;\n",
              "    }\n",
              "\n",
              "    .dataframe tbody tr th {\n",
              "        vertical-align: top;\n",
              "    }\n",
              "\n",
              "    .dataframe thead th {\n",
              "        text-align: right;\n",
              "    }\n",
              "</style>\n",
              "<table border=\"1\" class=\"dataframe\">\n",
              "  <thead>\n",
              "    <tr style=\"text-align: right;\">\n",
              "      <th></th>\n",
              "      <th>NOME</th>\n",
              "      <th>IDADE</th>\n",
              "      <th>CIDADE</th>\n",
              "      <th>COMPROU</th>\n",
              "      <th>SALDO</th>\n",
              "    </tr>\n",
              "  </thead>\n",
              "  <tbody>\n",
              "    <tr>\n",
              "      <th>0</th>\n",
              "      <td>Joao</td>\n",
              "      <td>60</td>\n",
              "      <td>Corumba</td>\n",
              "      <td>True</td>\n",
              "      <td>600</td>\n",
              "    </tr>\n",
              "    <tr>\n",
              "      <th>1</th>\n",
              "      <td>Leo</td>\n",
              "      <td>60</td>\n",
              "      <td>Fatima do Sul</td>\n",
              "      <td>True</td>\n",
              "      <td>800</td>\n",
              "    </tr>\n",
              "  </tbody>\n",
              "</table>\n",
              "</div>"
            ],
            "text/plain": [
              "   NOME  IDADE         CIDADE  COMPROU  SALDO\n",
              "0  Joao     60        Corumba     True    600\n",
              "1   Leo     60  Fatima do Sul     True    800"
            ]
          },
          "metadata": {
            "tags": []
          },
          "execution_count": 29
        }
      ]
    },
    {
      "cell_type": "code",
      "metadata": {
        "id": "xv0Y1CbxwDyT"
      },
      "source": [
        "df_lista.index = [123, 456]"
      ],
      "execution_count": 30,
      "outputs": []
    },
    {
      "cell_type": "code",
      "metadata": {
        "colab": {
          "base_uri": "https://localhost:8080/",
          "height": 111
        },
        "id": "q2iA9E0FwSJ6",
        "outputId": "8c91f91d-c509-43b1-c00a-abfe6853da45"
      },
      "source": [
        "df_lista"
      ],
      "execution_count": 31,
      "outputs": [
        {
          "output_type": "execute_result",
          "data": {
            "text/html": [
              "<div>\n",
              "<style scoped>\n",
              "    .dataframe tbody tr th:only-of-type {\n",
              "        vertical-align: middle;\n",
              "    }\n",
              "\n",
              "    .dataframe tbody tr th {\n",
              "        vertical-align: top;\n",
              "    }\n",
              "\n",
              "    .dataframe thead th {\n",
              "        text-align: right;\n",
              "    }\n",
              "</style>\n",
              "<table border=\"1\" class=\"dataframe\">\n",
              "  <thead>\n",
              "    <tr style=\"text-align: right;\">\n",
              "      <th></th>\n",
              "      <th>NOME</th>\n",
              "      <th>IDADE</th>\n",
              "      <th>CIDADE</th>\n",
              "      <th>COMPROU</th>\n",
              "      <th>SALDO</th>\n",
              "    </tr>\n",
              "  </thead>\n",
              "  <tbody>\n",
              "    <tr>\n",
              "      <th>123</th>\n",
              "      <td>Joao</td>\n",
              "      <td>60</td>\n",
              "      <td>Corumba</td>\n",
              "      <td>True</td>\n",
              "      <td>600</td>\n",
              "    </tr>\n",
              "    <tr>\n",
              "      <th>456</th>\n",
              "      <td>Leo</td>\n",
              "      <td>60</td>\n",
              "      <td>Fatima do Sul</td>\n",
              "      <td>True</td>\n",
              "      <td>800</td>\n",
              "    </tr>\n",
              "  </tbody>\n",
              "</table>\n",
              "</div>"
            ],
            "text/plain": [
              "     NOME  IDADE         CIDADE  COMPROU  SALDO\n",
              "123  Joao     60        Corumba     True    600\n",
              "456   Leo     60  Fatima do Sul     True    800"
            ]
          },
          "metadata": {
            "tags": []
          },
          "execution_count": 31
        }
      ]
    },
    {
      "cell_type": "code",
      "metadata": {
        "colab": {
          "base_uri": "https://localhost:8080/"
        },
        "id": "t1j-kox3wTQH",
        "outputId": "4979bf35-33e5-4e80-e27f-e96b06bde8a4"
      },
      "source": [
        "df_lista.loc[456]"
      ],
      "execution_count": 32,
      "outputs": [
        {
          "output_type": "execute_result",
          "data": {
            "text/plain": [
              "NOME                 Leo\n",
              "IDADE                 60\n",
              "CIDADE     Fatima do Sul\n",
              "COMPROU             True\n",
              "SALDO                800\n",
              "Name: 456, dtype: object"
            ]
          },
          "metadata": {
            "tags": []
          },
          "execution_count": 32
        }
      ]
    },
    {
      "cell_type": "code",
      "metadata": {
        "id": "x5rVWy5kwX7X"
      },
      "source": [
        ""
      ],
      "execution_count": null,
      "outputs": []
    }
  ]
}