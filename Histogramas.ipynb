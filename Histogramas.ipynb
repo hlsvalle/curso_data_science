{
  "nbformat": 4,
  "nbformat_minor": 0,
  "metadata": {
    "colab": {
      "name": "Histogramas.ipynb",
      "provenance": [],
      "authorship_tag": "ABX9TyNHY0htoiRnmAHiqpwGJHbQ",
      "include_colab_link": true
    },
    "kernelspec": {
      "name": "python3",
      "display_name": "Python 3"
    }
  },
  "cells": [
    {
      "cell_type": "markdown",
      "metadata": {
        "id": "view-in-github",
        "colab_type": "text"
      },
      "source": [
        "<a href=\"https://colab.research.google.com/github/hlsvalle/curso_data_science/blob/master/Histogramas.ipynb\" target=\"_parent\"><img src=\"https://colab.research.google.com/assets/colab-badge.svg\" alt=\"Open In Colab\"/></a>"
      ]
    },
    {
      "cell_type": "code",
      "metadata": {
        "id": "HWC3_plnW4wg",
        "colab_type": "code",
        "colab": {}
      },
      "source": [
        "#Importando as bibliotecas necessarias\n",
        "\n",
        "import numpy as np\n",
        "import pandas as pd\n",
        "import matplotlib.pyplot as plt\n",
        "\n",
        "data = \"https://raw.githubusercontent.com/carlosfab/curso_data_science_na_pratica/master/modulo_03/dengue-dataset.csv\"\n",
        "\n",
        "df = pd.read_csv(data, index_col=\"data\", parse_dates=True)"
      ],
      "execution_count": 0,
      "outputs": []
    },
    {
      "cell_type": "code",
      "metadata": {
        "id": "geTyyDhrdGaH",
        "colab_type": "code",
        "colab": {
          "base_uri": "https://localhost:8080/",
          "height": 238
        },
        "outputId": "87db3c4a-a26f-4d6f-8a08-ee4f56af2313"
      },
      "source": [
        "df.head()"
      ],
      "execution_count": 3,
      "outputs": [
        {
          "output_type": "execute_result",
          "data": {
            "text/html": [
              "<div>\n",
              "<style scoped>\n",
              "    .dataframe tbody tr th:only-of-type {\n",
              "        vertical-align: middle;\n",
              "    }\n",
              "\n",
              "    .dataframe tbody tr th {\n",
              "        vertical-align: top;\n",
              "    }\n",
              "\n",
              "    .dataframe thead th {\n",
              "        text-align: right;\n",
              "    }\n",
              "</style>\n",
              "<table border=\"1\" class=\"dataframe\">\n",
              "  <thead>\n",
              "    <tr style=\"text-align: right;\">\n",
              "      <th></th>\n",
              "      <th>casos-confirmados</th>\n",
              "      <th>chuva</th>\n",
              "      <th>temperatura-media</th>\n",
              "      <th>temperatura-mininima</th>\n",
              "      <th>temperatura-maxima</th>\n",
              "    </tr>\n",
              "    <tr>\n",
              "      <th>data</th>\n",
              "      <th></th>\n",
              "      <th></th>\n",
              "      <th></th>\n",
              "      <th></th>\n",
              "      <th></th>\n",
              "    </tr>\n",
              "  </thead>\n",
              "  <tbody>\n",
              "    <tr>\n",
              "      <th>1998-01-01</th>\n",
              "      <td>237</td>\n",
              "      <td>179.2</td>\n",
              "      <td>25.7</td>\n",
              "      <td>20.2</td>\n",
              "      <td>28.1</td>\n",
              "    </tr>\n",
              "    <tr>\n",
              "      <th>1998-02-01</th>\n",
              "      <td>331</td>\n",
              "      <td>226.3</td>\n",
              "      <td>25.1</td>\n",
              "      <td>20.0</td>\n",
              "      <td>28.0</td>\n",
              "    </tr>\n",
              "    <tr>\n",
              "      <th>1998-03-01</th>\n",
              "      <td>562</td>\n",
              "      <td>149.1</td>\n",
              "      <td>24.8</td>\n",
              "      <td>22.4</td>\n",
              "      <td>27.2</td>\n",
              "    </tr>\n",
              "    <tr>\n",
              "      <th>1998-04-01</th>\n",
              "      <td>187</td>\n",
              "      <td>46.4</td>\n",
              "      <td>22.7</td>\n",
              "      <td>18.1</td>\n",
              "      <td>26.0</td>\n",
              "    </tr>\n",
              "    <tr>\n",
              "      <th>1998-05-01</th>\n",
              "      <td>32</td>\n",
              "      <td>88.3</td>\n",
              "      <td>19.2</td>\n",
              "      <td>15.7</td>\n",
              "      <td>22.9</td>\n",
              "    </tr>\n",
              "  </tbody>\n",
              "</table>\n",
              "</div>"
            ],
            "text/plain": [
              "            casos-confirmados  chuva  ...  temperatura-mininima  temperatura-maxima\n",
              "data                                  ...                                          \n",
              "1998-01-01                237  179.2  ...                  20.2                28.1\n",
              "1998-02-01                331  226.3  ...                  20.0                28.0\n",
              "1998-03-01                562  149.1  ...                  22.4                27.2\n",
              "1998-04-01                187   46.4  ...                  18.1                26.0\n",
              "1998-05-01                 32   88.3  ...                  15.7                22.9\n",
              "\n",
              "[5 rows x 5 columns]"
            ]
          },
          "metadata": {
            "tags": []
          },
          "execution_count": 3
        }
      ]
    },
    {
      "cell_type": "code",
      "metadata": {
        "id": "5PfT_NdGfQJG",
        "colab_type": "code",
        "colab": {
          "base_uri": "https://localhost:8080/",
          "height": 297
        },
        "outputId": "32b78049-b984-4ea9-cb30-e07f9cf6bc96"
      },
      "source": [
        "#Histograma de Temperatura Média\n",
        "fig, ax = plt.subplots(nrows=1, ncols=2, figsize=(12,4))\n",
        "\n",
        "df['temperatura-media'].plot(kind='hist', ax=ax[0])\n",
        "ax[0].set_title(\"Temperatura Média com Valores Absolutos\")\n",
        "ax[0].set_xlabel(\"Temperatura\")\n",
        "ax[0].set_ylabel(\"Quantidade de Ocorrencias\")\n",
        "\n",
        "#Histograma com Valores com Frequencia relativa\n",
        "df['temperatura-media'].plot(kind='hist', ax=ax[1], density=True, bins=20)\n",
        "ax[1].set_title(\"Temperatura Média com Valores Relativos\")\n",
        "ax[1].set_xlabel(\"Temperatura\")\n",
        "ax[1].set_ylabel(\"Frequencia\")\n",
        "\n",
        "plt.tight_layout();"
      ],
      "execution_count": 12,
      "outputs": [
        {
          "output_type": "display_data",
          "data": {
            "image/png": "[encoded data removed]",
            "text/plain": [
              "<Figure size 864x288 with 2 Axes>"
            ]
          },
          "metadata": {
            "tags": []
          }
        }
      ]
    },
    {
      "cell_type": "code",
      "metadata": {
        "id": "sb9oFW5ffquB",
        "colab_type": "code",
        "colab": {
          "base_uri": "https://localhost:8080/",
          "height": 297
        },
        "outputId": "31bde923-5445-4cc2-8675-2ab277d2b0f9"
      },
      "source": [
        "#Plotar Histograma com o ticks no eixo x usando numpy para pegar valor do bins\n",
        "\n",
        "count, bin_edges = np.histogram(df['temperatura-media'])\n",
        "\n",
        "#Histograma de Temperatura Média\n",
        "fig, ax = plt.subplots(nrows=1, ncols=2, figsize=(12,4))\n",
        "\n",
        "df['temperatura-media'].plot(kind='hist', ax=ax[0])\n",
        "ax[0].set_title(\"Temperatura Média com Valores Absolutos\")\n",
        "ax[0].set_xlabel(\"Temperatura\")\n",
        "ax[0].set_ylabel(\"Quantidade de Ocorrencias\")\n",
        "\n",
        "#Histograma com Valores com Frequencia relativa\n",
        "df['temperatura-media'].plot(kind='hist', ax=ax[1], density=True, bins=10, xticks=bin_edges)\n",
        "ax[1].set_title(\"Temperatura Média com Valores Relativos/xticks do inicio\")\n",
        "ax[1].set_xlabel(\"Temperatura\")\n",
        "ax[1].set_ylabel(\"Frequencia\")\n",
        "\n",
        "plt.tight_layout();"
      ],
      "execution_count": 15,
      "outputs": [
        {
          "output_type": "display_data",
          "data": {
            "image/png": "[encoded data removed]",
            "text/plain": [
              "<Figure size 864x288 with 2 Axes>"
            ]
          },
          "metadata": {
            "tags": []
          }
        }
      ]
    },
    {
      "cell_type": "code",
      "metadata": {
        "id": "wUEe0boKioWJ",
        "colab_type": "code",
        "colab": {}
      },
      "source": [
        ""
      ],
      "execution_count": 0,
      "outputs": []
    }
  ]
}