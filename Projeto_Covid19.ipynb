{
  "nbformat": 4,
  "nbformat_minor": 0,
  "metadata": {
    "colab": {
      "name": "Projeto_Covid19.ipynb",
      "provenance": [],
      "authorship_tag": "ABX9TyM5Vt+U1FVYOMPD3jivcmqe",
      "include_colab_link": true
    },
    "kernelspec": {
      "name": "python3",
      "display_name": "Python 3"
    },
    "language_info": {
      "name": "python"
    }
  },
  "cells": [
    {
      "cell_type": "markdown",
      "metadata": {
        "id": "view-in-github",
        "colab_type": "text"
      },
      "source": [
        "<a href=\"https://colab.research.google.com/github/hlsvalle/curso_data_science/blob/master/Projeto_Covid19.ipynb\" target=\"_parent\"><img src=\"https://colab.research.google.com/assets/colab-badge.svg\" alt=\"Open In Colab\"/></a>"
      ]
    },
    {
      "cell_type": "markdown",
      "metadata": {
        "id": "oGIeIhjNi7rH"
      },
      "source": [
        "#Covid-19 no Brasil e no Mundo\n",
        "\n",
        "<p align=\"justify\">De acordo com a OPAS - Organização Pan-Americana de Saúde a COVID-19 é uma doença infecciosa causada pelo novo coronavírus (SARS-CoV-2) e tem como principais sintomas febre, cansaço e tosse seca. Alguns pacientes podem apresentar dores, congestão nasal, dor de cabeça, conjuntivite, dor de garganta, diarreia, perda de paladar ou olfato, erupção cutânea na pele ou descoloração dos dedos das mãos ou dos pés. Esses sintomas geralmente são leves e começam gradualmente. Algumas pessoas são infectadas, mas apresentam apenas sintomas muito leves.\n",
        "\n",
        "<p align=\"justify\">A maioria das pessoas (cerca de 80%) se recupera da doença sem precisar de tratamento hospitalar. Uma em cada seis pessoas infectadas por COVID-19 fica gravemente doente e desenvolve dificuldade de respirar. As pessoas idosas e as que têm outras condições de saúde como pressão alta, problemas cardíacos e do pulmão, diabetes ou câncer, têm maior risco de ficarem gravemente doentes. No entanto, qualquer pessoa pode pegar a COVID-19 e ficar gravemente doente.\n",
        "\n",
        "<center><img alt = \"Colaboratory\" width=\"50%\" src=\"https://raw.githubusercontent.com/hlsvalle/data-science/master/img/covid19.jpg\"></center>\n",
        "\n",
        "<justify>Neste projeto iremos mostrar como estão os Casos de Covid-19 no Brasil e no Mundo.</justify> "
      ]
    },
    {
      "cell_type": "markdown",
      "metadata": {
        "id": "8IeX16DJvfJB"
      },
      "source": [
        "#Obtenção dos Dados\n",
        "\n",
        "<p align=\"justify\">Muitos dados são informados diariamente sobre o COVID 19 no Brasil e no Mundo, porém muita dessas informações são de dificil acesso, tendo como diversas fontes, é possivel encontrar dados separados de Paises, Estados e Municipios, o que dificulta as analises de dados, e tambem não podemos esquecer dos dados não oficiais. No caso do Brasil, os dados são consolidados pelo Governo Federal que por sua vez, recebe essas informações dos Governos Estaduais e Municipais.</p> "
      ]
    },
    {
      "cell_type": "markdown",
      "metadata": {
        "id": "Dw1V76lx0LXv"
      },
      "source": [
        "* O projeto será desenvolvido através dos dados fornecidos por [*Our Word in Data*](https://ourworldindata.org)."
      ]
    }
  ]
}