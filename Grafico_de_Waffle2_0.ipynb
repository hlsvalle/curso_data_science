{
  "nbformat": 4,
  "nbformat_minor": 0,
  "metadata": {
    "colab": {
      "name": "Grafico_de_Waffle2.0.ipynb",
      "provenance": [],
      "authorship_tag": "ABX9TyOoJUZZlR15blqE/vSaF74c",
      "include_colab_link": true
    },
    "kernelspec": {
      "name": "python3",
      "display_name": "Python 3"
    },
    "language_info": {
      "name": "python"
    }
  },
  "cells": [
    {
      "cell_type": "markdown",
      "metadata": {
        "id": "view-in-github",
        "colab_type": "text"
      },
      "source": [
        "<a href=\"https://colab.research.google.com/github/hlsvalle/curso_data_science/blob/master/Grafico_de_Waffle2_0.ipynb\" target=\"_parent\"><img src=\"https://colab.research.google.com/assets/colab-badge.svg\" alt=\"Open In Colab\"/></a>"
      ]
    },
    {
      "cell_type": "code",
      "metadata": {
        "id": "JBtdGXk7nxfB"
      },
      "source": [
        "#Instalando o Pywaffle\n",
        "!pip install Pywaffle -q"
      ],
      "execution_count": 2,
      "outputs": []
    },
    {
      "cell_type": "code",
      "metadata": {
        "id": "UB_y0ZfYn7Co"
      },
      "source": [
        "#Importando as bibliotecas\n",
        "import pandas as pd\n",
        "import matplotlib.pyplot as plt\n",
        "from pywaffle import Waffle"
      ],
      "execution_count": 3,
      "outputs": []
    },
    {
      "cell_type": "code",
      "metadata": {
        "id": "ui9BWTmdoOxf"
      },
      "source": [
        "#Importando o DataSet\n",
        "df = pd.read_csv('https://raw.githubusercontent.com/carlosfab/dsnp2/master/datasets/ocorrencias_aviacao.csv')"
      ],
      "execution_count": 4,
      "outputs": []
    },
    {
      "cell_type": "code",
      "metadata": {
        "id": "9TwhMo2go_lp"
      },
      "source": [
        "#Transformando a coluna ocorrencia_classificacao em dicionario\n",
        "ocorrencias_classificacao = dict(df.ocorrencia_classificacao.value_counts())"
      ],
      "execution_count": 5,
      "outputs": []
    },
    {
      "cell_type": "code",
      "metadata": {
        "colab": {
          "base_uri": "https://localhost:8080/",
          "height": 127
        },
        "id": "4rKez-eVoUEa",
        "outputId": "6d786777-cda1-4fbc-9c3e-52e8a7ced5a8"
      },
      "source": [
        "#Plotando o Grafico de Waffle\n",
        "fig = plt.figure(\n",
        "                  FigureClass = Waffle,\n",
        "                  rows = 6,\n",
        "                  columns = 12,\n",
        "                  values = ocorrencias_classificacao,\n",
        "                  legend = {'loc': 'upper left', 'bbox_to_anchor': (1.1, 1)},\n",
        "                  icons = 'plane',\n",
        "                  icon_legend = True, \n",
        "                  figsize = (5,3)\n",
        "\n",
        ")\n",
        "plt.tight_layout()"
      ],
      "execution_count": 18,
      "outputs": [
        {
          "output_type": "display_data",
          "data": {
            "image/png": "[encoded data removed]",
            "text/plain": [
              "<Waffle size 360x216 with 1 Axes>"
            ]
          },
          "metadata": {
            "tags": [],
            "needs_background": "light"
          }
        }
      ]
    },
    {
      "cell_type": "code",
      "metadata": {
        "colab": {
          "base_uri": "https://localhost:8080/"
        },
        "id": "zkoishyApuav",
        "outputId": "a2835b31-8806-4341-eae4-beb046e12b6b"
      },
      "source": [
        "ocorrencias_classificacao"
      ],
      "execution_count": 16,
      "outputs": [
        {
          "output_type": "execute_result",
          "data": {
            "text/plain": [
              "{'ACIDENTE': 1714, 'INCIDENTE': 2861, 'INCIDENTE GRAVE': 633}"
            ]
          },
          "metadata": {
            "tags": []
          },
          "execution_count": 16
        }
      ]
    },
    {
      "cell_type": "code",
      "metadata": {
        "id": "f37sj-l-q26M"
      },
      "source": [
        ""
      ],
      "execution_count": null,
      "outputs": []
    }
  ]
}